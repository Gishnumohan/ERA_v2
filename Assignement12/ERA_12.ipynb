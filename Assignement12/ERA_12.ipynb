{
  "nbformat": 4,
  "nbformat_minor": 0,
  "metadata": {
    "colab": {
      "provenance": [],
      "gpuType": "T4"
    },
    "kernelspec": {
      "name": "python3",
      "display_name": "Python 3"
    },
    "language_info": {
      "name": "python"
    },
    "accelerator": "GPU"
  },
  "cells": [
    {
      "cell_type": "code",
      "source": [
        "from google.colab import drive\n",
        "drive.mount('/content/drive')"
      ],
      "metadata": {
        "colab": {
          "base_uri": "https://localhost:8080/"
        },
        "id": "-0M6W4H4TxBJ",
        "outputId": "d755f539-a08a-43c7-d58d-b4f72718cc87"
      },
      "execution_count": 1,
      "outputs": [
        {
          "output_type": "stream",
          "name": "stdout",
          "text": [
            "Drive already mounted at /content/drive; to attempt to forcibly remount, call drive.mount(\"/content/drive\", force_remount=True).\n"
          ]
        }
      ]
    },
    {
      "cell_type": "code",
      "source": [
        "cd /content/drive/MyDrive/yolo/"
      ],
      "metadata": {
        "id": "52AqKunIOgZu",
        "colab": {
          "base_uri": "https://localhost:8080/"
        },
        "outputId": "cfa17985-9997-4605-94e4-9fc7a09b25b4"
      },
      "execution_count": 2,
      "outputs": [
        {
          "output_type": "stream",
          "name": "stdout",
          "text": [
            "/content/drive/MyDrive/yolo\n"
          ]
        }
      ]
    },
    {
      "cell_type": "code",
      "source": [
        "ls"
      ],
      "metadata": {
        "colab": {
          "base_uri": "https://localhost:8080/"
        },
        "id": "Uv925A06VNT7",
        "outputId": "15cb8633-7556-48fa-b9d1-b61744a51c70"
      },
      "execution_count": 6,
      "outputs": [
        {
          "output_type": "stream",
          "name": "stdout",
          "text": [
            " \u001b[0m\u001b[01;34mannotation_tool\u001b[0m/   \u001b[01;34moutput\u001b[0m/        results.txt        train.py            YoloV3-master.zip\n",
            " \u001b[01;34mcfg\u001b[0m/               \u001b[01;34m__pycache__\u001b[0m/   test_batch0.png   'ubdivisions=1'\n",
            " \u001b[01;34mdata\u001b[0m/              README.md      test.py            \u001b[01;34mutils\u001b[0m/\n",
            " detect.py          results.json   ting               vim.exe.stackdump\n",
            " models.py          results.png    train_batch0.png   \u001b[01;34mweights\u001b[0m/\n"
          ]
        }
      ]
    },
    {
      "cell_type": "code",
      "source": [
        "!python train.py --data data/customdata/custom.data --batch 10 --cache --cfg cfg/yolov3-custom.cfg --epochs 30 --nosave"
      ],
      "metadata": {
        "colab": {
          "base_uri": "https://localhost:8080/"
        },
        "id": "RQV-hrJWWPEQ",
        "outputId": "54eafbf1-4c2f-4dca-8f9c-9a2fb328978f"
      },
      "execution_count": 19,
      "outputs": [
        {
          "output_type": "stream",
          "name": "stdout",
          "text": [
            "Namespace(epochs=30, batch_size=10, accumulate=4, cfg='cfg/yolov3-custom.cfg', data='data/customdata/custom.data', multi_scale=False, img_size=[512], rect=False, resume=False, nosave=True, notest=False, evolve=False, bucket='', cache_images=True, weights='weights/yolov3-spp-ultralytics.pt', name='', device='', adam=False, single_cls=False)\n",
            "Using CUDA device0 _CudaDeviceProperties(name='Tesla T4', total_memory=15102MB)\n",
            "\n",
            "2024-04-30 19:17:00.485459: E external/local_xla/xla/stream_executor/cuda/cuda_dnn.cc:9261] Unable to register cuDNN factory: Attempting to register factory for plugin cuDNN when one has already been registered\n",
            "2024-04-30 19:17:00.485516: E external/local_xla/xla/stream_executor/cuda/cuda_fft.cc:607] Unable to register cuFFT factory: Attempting to register factory for plugin cuFFT when one has already been registered\n",
            "2024-04-30 19:17:00.486828: E external/local_xla/xla/stream_executor/cuda/cuda_blas.cc:1515] Unable to register cuBLAS factory: Attempting to register factory for plugin cuBLAS when one has already been registered\n",
            "2024-04-30 19:17:01.611216: W tensorflow/compiler/tf2tensorrt/utils/py_utils.cc:38] TF-TRT Warning: Could not find TensorRT\n",
            "Run 'tensorboard --logdir=runs' to view tensorboard at http://localhost:6006/\n",
            "WARNING: smart bias initialization failure.\n",
            "WARNING: smart bias initialization failure.\n",
            "WARNING: smart bias initialization failure.\n",
            "Model Summary: 225 layers, 6.25733e+07 parameters, 6.25733e+07 gradients\n",
            "Caching labels (116 found, 0 missing, 0 empty, 0 duplicate, for 116 images): 100% 116/116 [00:00<00:00, 377.24it/s]\n",
            "Caching images (0.1GB): 100% 116/116 [00:00<00:00, 137.65it/s]\n",
            "Caching labels (116 found, 0 missing, 0 empty, 0 duplicate, for 116 images): 100% 116/116 [00:00<00:00, 426.47it/s]\n",
            "Caching images (0.1GB): 100% 116/116 [00:01<00:00, 105.09it/s]\n",
            "Image sizes 512 - 512 train, 512 test\n",
            "Using 2 dataloader workers\n",
            "Starting training for 30 epochs...\n",
            "\n",
            "     Epoch   gpu_mem      GIoU       obj       cls     total   targets  img_size\n",
            "/usr/lib/python3.10/multiprocessing/popen_fork.py:66: RuntimeWarning: os.fork() was called. os.fork() is incompatible with multithreaded code, and JAX is multithreaded, so this will likely lead to a deadlock.\n",
            "  self.pid = os.fork()\n",
            "  0% 0/12 [00:00<?, ?it/s]/content/drive/MyDrive/yolo/utils/utils.py:374: UserWarning: The torch.cuda.*DtypeTensor constructors are no longer recommended. It's best to use methods such as torch.tensor(data, dtype=*, device='cuda') to create tensors. (Triggered internally at ../torch/csrc/tensor/python_tensor.cpp:83.)\n",
            "  lcls, lbox, lobj = ft([0]), ft([0]), ft([0])\n",
            "/usr/local/lib/python3.10/dist-packages/torch/cuda/memory.py:440: FutureWarning: torch.cuda.memory_cached has been renamed to torch.cuda.memory_reserved\n",
            "  warnings.warn(\n",
            "      0/29     7.74G      5.19       160         0       165        18       512:   8% 1/12 [00:05<01:02,  5.65s/it]/usr/local/lib/python3.10/dist-packages/torch/cuda/memory.py:440: FutureWarning: torch.cuda.memory_cached has been renamed to torch.cuda.memory_reserved\n",
            "  warnings.warn(\n",
            "      0/29     7.74G      5.05      68.8         0      73.8        14       512: 100% 12/12 [00:14<00:00,  1.17s/it]\n",
            "/usr/local/lib/python3.10/dist-packages/torch/functional.py:507: UserWarning: torch.meshgrid: in an upcoming release, it will be required to pass the indexing argument. (Triggered internally at ../aten/src/ATen/native/TensorShape.cpp:3549.)\n",
            "  return _VF.meshgrid(tensors, **kwargs)  # type: ignore[attr-defined]\n",
            "               Class    Images   Targets         P         R   mAP@0.5        F1:   0% 0/12 [00:00<?, ?it/s]/usr/lib/python3.10/multiprocessing/popen_fork.py:66: RuntimeWarning: os.fork() was called. os.fork() is incompatible with multithreaded code, and JAX is multithreaded, so this will likely lead to a deadlock.\n",
            "  self.pid = os.fork()\n",
            "               Class    Images   Targets         P         R   mAP@0.5        F1: 100% 12/12 [00:06<00:00,  1.81it/s]\n",
            "                 all       116       118   0.00166    0.0508    0.0031   0.00321\n",
            "\n",
            "     Epoch   gpu_mem      GIoU       obj       cls     total   targets  img_size\n",
            "      1/29     7.24G      4.73      4.02         0      8.75        14       512: 100% 12/12 [00:09<00:00,  1.28it/s]\n",
            "               Class    Images   Targets         P         R   mAP@0.5        F1: 100% 12/12 [00:05<00:00,  2.32it/s]\n",
            "                 all       116       118         0         0   0.00392         0\n",
            "\n",
            "     Epoch   gpu_mem      GIoU       obj       cls     total   targets  img_size\n",
            "      2/29     8.85G      4.06       2.7         0      6.76        11       512: 100% 12/12 [00:09<00:00,  1.24it/s]\n",
            "               Class    Images   Targets         P         R   mAP@0.5        F1: 100% 12/12 [00:02<00:00,  4.40it/s]\n",
            "                 all       116       118         0         0    0.0221         0\n",
            "\n",
            "     Epoch   gpu_mem      GIoU       obj       cls     total   targets  img_size\n",
            "      3/29     8.85G       3.6      3.24         0      6.85        13       512: 100% 12/12 [00:09<00:00,  1.20it/s]\n",
            "               Class    Images   Targets         P         R   mAP@0.5        F1: 100% 12/12 [00:02<00:00,  4.37it/s]\n",
            "                 all       116       118         0         0     0.242         0\n",
            "\n",
            "     Epoch   gpu_mem      GIoU       obj       cls     total   targets  img_size\n",
            "      4/29     8.85G      3.26      3.15         0      6.41        15       512: 100% 12/12 [00:10<00:00,  1.17it/s]\n",
            "               Class    Images   Targets         P         R   mAP@0.5        F1: 100% 12/12 [00:02<00:00,  4.17it/s]\n",
            "                 all       116       118         1   0.00847     0.676    0.0168\n",
            "\n",
            "     Epoch   gpu_mem      GIoU       obj       cls     total   targets  img_size\n",
            "      5/29     8.85G      3.06      3.08         0      6.14        11       512: 100% 12/12 [00:10<00:00,  1.17it/s]\n",
            "               Class    Images   Targets         P         R   mAP@0.5        F1: 100% 12/12 [00:02<00:00,  4.23it/s]\n",
            "                 all       116       118         1   0.00847     0.728    0.0168\n",
            "\n",
            "     Epoch   gpu_mem      GIoU       obj       cls     total   targets  img_size\n",
            "      6/29     8.85G      2.46      2.84         0       5.3        12       512: 100% 12/12 [00:10<00:00,  1.19it/s]\n",
            "               Class    Images   Targets         P         R   mAP@0.5        F1: 100% 12/12 [00:02<00:00,  4.24it/s]\n",
            "                 all       116       118         1    0.0728     0.691     0.136\n",
            "\n",
            "     Epoch   gpu_mem      GIoU       obj       cls     total   targets  img_size\n",
            "      7/29     8.85G      3.28      2.16         0      5.43        10       512: 100% 12/12 [00:09<00:00,  1.21it/s]\n",
            "               Class    Images   Targets         P         R   mAP@0.5        F1: 100% 12/12 [00:03<00:00,  3.93it/s]\n",
            "                 all       116       118     0.734     0.702      0.75     0.717\n",
            "\n",
            "     Epoch   gpu_mem      GIoU       obj       cls     total   targets  img_size\n",
            "      8/29     8.85G      2.92      1.82         0      4.74        13       512: 100% 12/12 [00:10<00:00,  1.19it/s]\n",
            "               Class    Images   Targets         P         R   mAP@0.5        F1: 100% 12/12 [00:02<00:00,  4.22it/s]\n",
            "                 all       116       118     0.599     0.847     0.679     0.702\n",
            "\n",
            "     Epoch   gpu_mem      GIoU       obj       cls     total   targets  img_size\n",
            "      9/29     8.85G      2.86      1.71         0      4.57        13       512: 100% 12/12 [00:09<00:00,  1.21it/s]\n",
            "               Class    Images   Targets         P         R   mAP@0.5        F1: 100% 12/12 [00:02<00:00,  4.34it/s]\n",
            "                 all       116       118     0.486     0.898     0.659      0.63\n",
            "\n",
            "     Epoch   gpu_mem      GIoU       obj       cls     total   targets  img_size\n",
            "     10/29     8.85G      2.57       1.7         0      4.26        12       512: 100% 12/12 [00:10<00:00,  1.19it/s]\n",
            "               Class    Images   Targets         P         R   mAP@0.5        F1: 100% 12/12 [00:02<00:00,  4.35it/s]\n",
            "                 all       116       118     0.633     0.482     0.574     0.547\n",
            "\n",
            "     Epoch   gpu_mem      GIoU       obj       cls     total   targets  img_size\n",
            "     11/29     8.85G       2.4      1.57         0      3.97        15       512: 100% 12/12 [00:10<00:00,  1.17it/s]\n",
            "               Class    Images   Targets         P         R   mAP@0.5        F1: 100% 12/12 [00:02<00:00,  4.35it/s]\n",
            "                 all       116       118     0.669     0.483     0.623     0.561\n",
            "\n",
            "     Epoch   gpu_mem      GIoU       obj       cls     total   targets  img_size\n",
            "     12/29     8.85G      2.37      1.31         0      3.68        13       512: 100% 12/12 [00:10<00:00,  1.16it/s]\n",
            "               Class    Images   Targets         P         R   mAP@0.5        F1: 100% 12/12 [00:02<00:00,  4.39it/s]\n",
            "                 all       116       118     0.795     0.394     0.746     0.527\n",
            "\n",
            "     Epoch   gpu_mem      GIoU       obj       cls     total   targets  img_size\n",
            "     13/29     8.85G      2.72      1.35         0      4.07        11       512: 100% 12/12 [00:10<00:00,  1.18it/s]\n",
            "               Class    Images   Targets         P         R   mAP@0.5        F1: 100% 12/12 [00:02<00:00,  4.48it/s]\n",
            "                 all       116       118      0.86     0.636     0.809     0.731\n",
            "\n",
            "     Epoch   gpu_mem      GIoU       obj       cls     total   targets  img_size\n",
            "     14/29     8.85G      2.48      1.39         0      3.87        17       512: 100% 12/12 [00:10<00:00,  1.20it/s]\n",
            "               Class    Images   Targets         P         R   mAP@0.5        F1: 100% 12/12 [00:02<00:00,  4.47it/s]\n",
            "                 all       116       118     0.823     0.754     0.845     0.787\n",
            "\n",
            "     Epoch   gpu_mem      GIoU       obj       cls     total   targets  img_size\n",
            "     15/29     8.85G      2.01      1.24         0      3.25        11       512: 100% 12/12 [00:09<00:00,  1.20it/s]\n",
            "               Class    Images   Targets         P         R   mAP@0.5        F1: 100% 12/12 [00:02<00:00,  4.50it/s]\n",
            "                 all       116       118     0.861     0.889     0.928     0.875\n",
            "\n",
            "     Epoch   gpu_mem      GIoU       obj       cls     total   targets  img_size\n",
            "     16/29     8.85G      2.45      1.19         0      3.64        11       512: 100% 12/12 [00:09<00:00,  1.21it/s]\n",
            "               Class    Images   Targets         P         R   mAP@0.5        F1: 100% 12/12 [00:02<00:00,  4.46it/s]\n",
            "                 all       116       118     0.853     0.737     0.891     0.791\n",
            "\n",
            "     Epoch   gpu_mem      GIoU       obj       cls     total   targets  img_size\n",
            "     17/29     8.85G      2.85      1.25         0      4.11        12       512: 100% 12/12 [00:09<00:00,  1.20it/s]\n",
            "               Class    Images   Targets         P         R   mAP@0.5        F1: 100% 12/12 [00:02<00:00,  4.46it/s]\n",
            "                 all       116       118     0.845     0.876     0.905      0.86\n",
            "\n",
            "     Epoch   gpu_mem      GIoU       obj       cls     total   targets  img_size\n",
            "     18/29     8.85G      2.11      1.19         0       3.3        13       512: 100% 12/12 [00:09<00:00,  1.21it/s]\n",
            "               Class    Images   Targets         P         R   mAP@0.5        F1: 100% 12/12 [00:02<00:00,  4.45it/s]\n",
            "                 all       116       118     0.922     0.907     0.949     0.914\n",
            "\n",
            "     Epoch   gpu_mem      GIoU       obj       cls     total   targets  img_size\n",
            "     19/29     8.85G      2.13      1.13         0      3.26        14       512: 100% 12/12 [00:09<00:00,  1.20it/s]\n",
            "               Class    Images   Targets         P         R   mAP@0.5        F1: 100% 12/12 [00:02<00:00,  4.47it/s]\n",
            "                 all       116       118     0.909     0.851     0.937     0.879\n",
            "\n",
            "     Epoch   gpu_mem      GIoU       obj       cls     total   targets  img_size\n",
            "     20/29     8.85G      2.39      1.11         0      3.49        10       512: 100% 12/12 [00:09<00:00,  1.20it/s]\n",
            "               Class    Images   Targets         P         R   mAP@0.5        F1: 100% 12/12 [00:02<00:00,  4.37it/s]\n",
            "                 all       116       118     0.953      0.85     0.974     0.898\n",
            "\n",
            "     Epoch   gpu_mem      GIoU       obj       cls     total   targets  img_size\n",
            "     21/29     8.85G      2.01       1.1         0      3.11         9       512: 100% 12/12 [00:10<00:00,  1.19it/s]\n",
            "               Class    Images   Targets         P         R   mAP@0.5        F1: 100% 12/12 [00:02<00:00,  4.32it/s]\n",
            "                 all       116       118      0.98      0.81     0.976     0.887\n",
            "\n",
            "     Epoch   gpu_mem      GIoU       obj       cls     total   targets  img_size\n",
            "     22/29     8.85G      1.97      1.08         0      3.05        13       512: 100% 12/12 [00:10<00:00,  1.20it/s]\n",
            "               Class    Images   Targets         P         R   mAP@0.5        F1: 100% 12/12 [00:02<00:00,  4.47it/s]\n",
            "                 all       116       118         1     0.636      0.98     0.778\n",
            "\n",
            "     Epoch   gpu_mem      GIoU       obj       cls     total   targets  img_size\n",
            "     23/29     8.85G       1.6      1.04         0      2.63        14       512: 100% 12/12 [00:10<00:00,  1.20it/s]\n",
            "               Class    Images   Targets         P         R   mAP@0.5        F1: 100% 12/12 [00:02<00:00,  4.42it/s]\n",
            "                 all       116       118         1     0.556     0.966     0.714\n",
            "\n",
            "     Epoch   gpu_mem      GIoU       obj       cls     total   targets  img_size\n",
            "     24/29     8.85G      1.88      1.07         0      2.95         9       512: 100% 12/12 [00:09<00:00,  1.20it/s]\n",
            "               Class    Images   Targets         P         R   mAP@0.5        F1: 100% 12/12 [00:02<00:00,  4.44it/s]\n",
            "                 all       116       118     0.975     0.659     0.975     0.787\n",
            "\n",
            "     Epoch   gpu_mem      GIoU       obj       cls     total   targets  img_size\n",
            "     25/29     8.85G      1.58      1.06         0      2.63        15       512: 100% 12/12 [00:10<00:00,  1.19it/s]\n",
            "               Class    Images   Targets         P         R   mAP@0.5        F1: 100% 12/12 [00:02<00:00,  4.29it/s]\n",
            "                 all       116       118     0.971     0.729     0.975     0.832\n",
            "\n",
            "     Epoch   gpu_mem      GIoU       obj       cls     total   targets  img_size\n",
            "     26/29     8.85G       1.5      0.99         0      2.49        11       512: 100% 12/12 [00:09<00:00,  1.20it/s]\n",
            "               Class    Images   Targets         P         R   mAP@0.5        F1: 100% 12/12 [00:02<00:00,  4.08it/s]\n",
            "                 all       116       118      0.98     0.824     0.971     0.895\n",
            "\n",
            "     Epoch   gpu_mem      GIoU       obj       cls     total   targets  img_size\n",
            "     27/29     8.85G      1.54     0.898         0      2.44        10       512: 100% 12/12 [00:10<00:00,  1.15it/s]\n",
            "               Class    Images   Targets         P         R   mAP@0.5        F1: 100% 12/12 [00:02<00:00,  4.31it/s]\n",
            "                 all       116       118     0.963     0.885     0.959     0.922\n",
            "\n",
            "     Epoch   gpu_mem      GIoU       obj       cls     total   targets  img_size\n",
            "     28/29     8.85G      1.49     0.958         0      2.45        16       512: 100% 12/12 [00:10<00:00,  1.19it/s]\n",
            "               Class    Images   Targets         P         R   mAP@0.5        F1: 100% 12/12 [00:02<00:00,  4.30it/s]\n",
            "                 all       116       118     0.964     0.919     0.953     0.941\n",
            "\n",
            "     Epoch   gpu_mem      GIoU       obj       cls     total   targets  img_size\n",
            "     29/29     8.85G      1.92      1.02         0      2.94        12       512: 100% 12/12 [00:10<00:00,  1.20it/s]\n",
            "               Class    Images   Targets         P         R   mAP@0.5        F1: 100% 12/12 [00:02<00:00,  4.26it/s]\n",
            "                 all       116       118     0.948     0.924     0.947     0.936\n",
            "30 epochs completed in 0.111 hours.\n",
            "\n"
          ]
        }
      ]
    }
  ]
}