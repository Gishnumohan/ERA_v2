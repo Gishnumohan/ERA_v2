{
  "cells": [
    {
      "cell_type": "markdown",
      "metadata": {
        "id": "otaVsbsNr8dg"
      },
      "source": [
        "#### Import Libraries"
      ]
    },
    {
      "cell_type": "code",
      "execution_count": 52,
      "metadata": {
        "colab": {
          "base_uri": "https://localhost:8080/"
        },
        "id": "HDMa_erQrY9N",
        "outputId": "7fc678e7-1a4b-4bda-fac0-31c301923b97"
      },
      "outputs": [
        {
          "name": "stdout",
          "output_type": "stream",
          "text": [
            "Requirement already satisfied: torchsummary in /usr/local/lib/python3.10/dist-packages (1.5.1)\n"
          ]
        }
      ],
      "source": [
        "from __future__ import print_function\n",
        "import torch\n",
        "import torch.nn as nn\n",
        "import torch.nn.functional as F\n",
        "import torch.optim as optim\n",
        "from torchvision import datasets, transforms\n",
        "\n",
        "import matplotlib.pyplot as plt\n",
        "import numpy as np\n",
        "\n",
        "\n",
        "#from utils import *\n",
        "%run utils.py         #to run every update in utils.py till code complition\n",
        "\n",
        "#from model import Net\n",
        "%run model.py\n",
        "\n",
        "!pip install torchsummary #Installs torch summary, if not available\n",
        "from torchsummary import summary"
      ]
    },
    {
      "cell_type": "code",
      "execution_count": 53,
      "metadata": {
        "id": "ncNTJBfNrzGw"
      },
      "outputs": [],
      "source": [
        "import albumentations as A\n",
        "from albumentations.pytorch import ToTensorV2\n",
        "\n",
        "# cutout needs to be half of the image size\n",
        "cutout_size = 16\n",
        "\n",
        "# Train Phase Transformations\n",
        "train_transforms = A.Compose(\n",
        "    A.Compose([\n",
        "        A.HorizontalFlip(),\n",
        "        A.ShiftScaleRotate(shift_limit=0.1, scale_limit=0.2, rotate_limit=10, p=0.5),\n",
        "        A.CoarseDropout( max_holes=1, max_height=cutout_size, max_width=cutout_size,\n",
        "                        min_holes=1, min_height=cutout_size, min_width=cutout_size,\n",
        "                        fill_value=[0.4915, 0.4823, 0.4468], mask_fill_value=None),\n",
        "        A.Normalize(mean=[0.4915, 0.4823, 0.4468], std=[0.2470, 0.2435, 0.2616]),\n",
        "        ToTensorV2(),\n",
        "    ])\n",
        ")\n",
        "\n",
        "# Test Phase Transformations\n",
        "test_transforms = A.Compose([\n",
        "    A.Normalize(mean=[0.4915, 0.4823, 0.4468], std=[0.2470, 0.2435, 0.2616]),\n",
        "    ToTensorV2(),\n",
        "])"
      ]
    },
    {
      "cell_type": "code",
      "execution_count": 54,
      "metadata": {
        "id": "iPEQhD-AuO1L"
      },
      "outputs": [],
      "source": [
        "import cv2\n",
        "import os\n",
        "import copy\n",
        "from torch.utils.data import Dataset\n",
        "from torchvision import datasets\n",
        "\n",
        "class CIFAR10_Transforms(Dataset):\n",
        "    def __init__(self, dataset, transforms):\n",
        "        self.transforms = transforms\n",
        "        self.dataset = dataset\n",
        "\n",
        "    def __getitem__(self, idx):\n",
        "        # Get the image and label from the dataset\n",
        "        image, label = self.dataset[idx]\n",
        "\n",
        "        # Apply transformations on the image\n",
        "        image = self.transforms(image=np.array(image))[\"image\"]\n",
        "\n",
        "        return image, label\n",
        "\n",
        "    def __len__(self):\n",
        "        return len(self.dataset)\n",
        "\n"
      ]
    },
    {
      "cell_type": "markdown",
      "metadata": {
        "id": "ApZdaB7dwgp5"
      },
      "source": [
        "#### Dataset and Creating Train/Test Split"
      ]
    },
    {
      "cell_type": "code",
      "execution_count": 55,
      "metadata": {
        "colab": {
          "base_uri": "https://localhost:8080/"
        },
        "id": "L3pdPq7dvmzM",
        "outputId": "513b6066-da5d-49cb-c9e7-70871dfd7b40"
      },
      "outputs": [
        {
          "name": "stdout",
          "output_type": "stream",
          "text": [
            "Files already downloaded and verified\n",
            "Files already downloaded and verified\n"
          ]
        }
      ],
      "source": [
        "train_data = datasets.CIFAR10('../data', train=True, download=True)\n",
        "test_data = datasets.CIFAR10('../data', train=False, download=True)\n",
        "\n",
        "train_data = CIFAR10_Transforms(train_data, train_transforms)\n",
        "test_data = CIFAR10_Transforms(test_data, test_transforms)"
      ]
    },
    {
      "cell_type": "markdown",
      "metadata": {
        "id": "wVNFuexgxFtA"
      },
      "source": [
        "#### Dataloader Arguments & Test/Train Dataloaders"
      ]
    },
    {
      "cell_type": "code",
      "execution_count": 56,
      "metadata": {
        "colab": {
          "base_uri": "https://localhost:8080/"
        },
        "id": "3RVQ7wonxGSU",
        "outputId": "a5850d59-c9d9-42da-8d99-1c934660b609"
      },
      "outputs": [
        {
          "name": "stdout",
          "output_type": "stream",
          "text": [
            "CUDA Available? True\n"
          ]
        }
      ],
      "source": [
        "SEED = 1\n",
        "\n",
        "# CUDA?\n",
        "cuda = torch.cuda.is_available()\n",
        "print(\"CUDA Available?\", cuda)\n",
        "\n",
        "# For reproducibility\n",
        "torch.manual_seed(SEED)\n",
        "\n",
        "if cuda:\n",
        "    torch.cuda.manual_seed(SEED)\n",
        "\n",
        "# dataloader arguments - something you'll fetch these from cmdprmt\n",
        "dataloader_args = dict(shuffle=True, batch_size=512, num_workers=4, pin_memory=True) if cuda else dict(shuffle=True, batch_size=64)\n",
        "\n",
        "# train dataloader\n",
        "train_loader = torch.utils.data.DataLoader(train_data, **dataloader_args)\n",
        "\n",
        "# test dataloader\n",
        "test_loader = torch.utils.data.DataLoader(test_data, **dataloader_args)"
      ]
    },
    {
      "cell_type": "code",
      "execution_count": 59,
      "metadata": {
        "colab": {
          "base_uri": "https://localhost:8080/"
        },
        "id": "sxMLjLYUbaj8",
        "outputId": "64493895-d390-476a-fac0-9a0782a3d144"
      },
      "outputs": [
        {
          "name": "stdout",
          "output_type": "stream",
          "text": [
            "Using CUDA!\n",
            "----------------------------------------------------------------\n",
            "        Layer (type)               Output Shape         Param #\n",
            "================================================================\n",
            "            Conv2d-1            [-1, 8, 32, 32]             216\n",
            "       BatchNorm2d-2            [-1, 8, 32, 32]              16\n",
            "              ReLU-3            [-1, 8, 32, 32]               0\n",
            "           Dropout-4            [-1, 8, 32, 32]               0\n",
            "            Conv2d-5           [-1, 32, 32, 32]           2,304\n",
            "       BatchNorm2d-6           [-1, 32, 32, 32]              64\n",
            "              ReLU-7           [-1, 32, 32, 32]               0\n",
            "           Dropout-8           [-1, 32, 32, 32]               0\n",
            "            Conv2d-9           [-1, 32, 16, 16]           9,216\n",
            "      BatchNorm2d-10           [-1, 32, 16, 16]              64\n",
            "             ReLU-11           [-1, 32, 16, 16]               0\n",
            "          Dropout-12           [-1, 32, 16, 16]               0\n",
            "           Conv2d-13           [-1, 32, 16, 16]           9,216\n",
            "      BatchNorm2d-14           [-1, 32, 16, 16]              64\n",
            "             ReLU-15           [-1, 32, 16, 16]               0\n",
            "          Dropout-16           [-1, 32, 16, 16]               0\n",
            "           Conv2d-17           [-1, 32, 16, 16]           9,216\n",
            "      BatchNorm2d-18           [-1, 32, 16, 16]              64\n",
            "             ReLU-19           [-1, 32, 16, 16]               0\n",
            "          Dropout-20           [-1, 32, 16, 16]               0\n",
            "           Conv2d-21           [-1, 64, 14, 14]          18,432\n",
            "      BatchNorm2d-22           [-1, 64, 14, 14]             128\n",
            "             ReLU-23           [-1, 64, 14, 14]               0\n",
            "          Dropout-24           [-1, 64, 14, 14]               0\n",
            "           Conv2d-25           [-1, 64, 14, 14]          36,864\n",
            "      BatchNorm2d-26           [-1, 64, 14, 14]             128\n",
            "             ReLU-27           [-1, 64, 14, 14]               0\n",
            "          Dropout-28           [-1, 64, 14, 14]               0\n",
            "           Conv2d-29           [-1, 64, 14, 14]          36,864\n",
            "      BatchNorm2d-30           [-1, 64, 14, 14]             128\n",
            "             ReLU-31           [-1, 64, 14, 14]               0\n",
            "          Dropout-32           [-1, 64, 14, 14]               0\n",
            "           Conv2d-33             [-1, 64, 7, 7]          36,864\n",
            "      BatchNorm2d-34             [-1, 64, 7, 7]             128\n",
            "             ReLU-35             [-1, 64, 7, 7]               0\n",
            "          Dropout-36             [-1, 64, 7, 7]               0\n",
            "           Conv2d-37             [-1, 64, 7, 7]           9,216\n",
            "           Conv2d-38             [-1, 16, 7, 7]           1,024\n",
            "      BatchNorm2d-39             [-1, 16, 7, 7]              32\n",
            "             ReLU-40             [-1, 16, 7, 7]               0\n",
            "          Dropout-41             [-1, 16, 7, 7]               0\n",
            "           Conv2d-42             [-1, 32, 7, 7]           4,608\n",
            "      BatchNorm2d-43             [-1, 32, 7, 7]              64\n",
            "             ReLU-44             [-1, 32, 7, 7]               0\n",
            "          Dropout-45             [-1, 32, 7, 7]               0\n",
            "           Conv2d-46             [-1, 64, 7, 7]          18,432\n",
            "      BatchNorm2d-47             [-1, 64, 7, 7]             128\n",
            "             ReLU-48             [-1, 64, 7, 7]               0\n",
            "          Dropout-49             [-1, 64, 7, 7]               0\n",
            "        AvgPool2d-50             [-1, 64, 1, 1]               0\n",
            "           Conv2d-51             [-1, 10, 1, 1]             640\n",
            "================================================================\n",
            "Total params: 194,120\n",
            "Trainable params: 194,120\n",
            "Non-trainable params: 0\n",
            "----------------------------------------------------------------\n",
            "Input size (MB): 0.01\n",
            "Forward/backward pass size (MB): 3.44\n",
            "Params size (MB): 0.74\n",
            "Estimated Total Size (MB): 4.19\n",
            "----------------------------------------------------------------\n"
          ]
        }
      ],
      "source": [
        "from torchsummary import summary\n",
        "device = setDevice()\n",
        "model = Net().to(device)\n",
        "summary(model, input_size=(3,32, 32))"
      ]
    },
    {
      "cell_type": "code",
      "execution_count": 60,
      "metadata": {
        "id": "awDQFzA5hPW6"
      },
      "outputs": [],
      "source": [
        "from tqdm import tqdm\n",
        "\n",
        "train_losses = []\n",
        "test_losses = []\n",
        "train_acc = []\n",
        "test_acc = []\n",
        "\n",
        "def train(model, device, train_loader, optimizer, epoch):\n",
        "  model.train()\n",
        "  pbar = tqdm(train_loader)\n",
        "  correct = 0\n",
        "  processed = 0\n",
        "  for batch_idx, (data, target) in enumerate(pbar):\n",
        "    # get samples\n",
        "    data, target = data.to(device), target.to(device)\n",
        "\n",
        "    # Init\n",
        "    optimizer.zero_grad()\n",
        "    # In PyTorch, we need to set the gradients to zero before starting to do backpropragation because PyTorch accumulates the gradients on subsequent backward passes.\n",
        "    # Because of this, when you start your training loop, ideally you should zero out the gradients so that you do the parameter update correctly.\n",
        "\n",
        "    # Predict\n",
        "    y_pred = model(data)\n",
        "\n",
        "    # Calculate loss\n",
        "    loss = F.nll_loss(y_pred, target)\n",
        "    train_losses.append(loss)\n",
        "\n",
        "    # Backpropagation\n",
        "    loss.backward()\n",
        "    optimizer.step()\n",
        "\n",
        "    # Update pbar-tqdm\n",
        "\n",
        "    pred = y_pred.argmax(dim=1, keepdim=True)  # get the index of the max log-probability\n",
        "    correct += pred.eq(target.view_as(pred)).sum().item()\n",
        "    processed += len(data)\n",
        "\n",
        "    pbar.set_description(desc= f'Loss={loss.item()} Batch_id={batch_idx} Accuracy={100*correct/processed:0.2f}')\n",
        "    train_acc.append(100*correct/processed)\n",
        "\n",
        "def test(model, device, test_loader):\n",
        "    model.eval()\n",
        "    test_loss = 0\n",
        "    correct = 0\n",
        "    with torch.no_grad():\n",
        "        for data, target in test_loader:\n",
        "            data, target = data.to(device), target.to(device)\n",
        "            output = model(data)\n",
        "            test_loss += F.nll_loss(output, target, reduction='sum').item()  # sum up batch loss\n",
        "            pred = output.argmax(dim=1, keepdim=True)  # get the index of the max log-probability\n",
        "            correct += pred.eq(target.view_as(pred)).sum().item()\n",
        "\n",
        "    test_loss /= len(test_loader.dataset)\n",
        "    test_losses.append(test_loss)\n",
        "\n",
        "    print('\\nTest set: Average loss: {:.4f}, Accuracy: {}/{} ({:.2f}%)\\n'.format(\n",
        "        test_loss, correct, len(test_loader.dataset),\n",
        "        100. * correct / len(test_loader.dataset)))\n",
        "\n",
        "    test_acc.append(100. * correct / len(test_loader.dataset))"
      ]
    },
    {
      "cell_type": "code",
      "execution_count": 64,
      "metadata": {
        "colab": {
          "base_uri": "https://localhost:8080/"
        },
        "id": "B820qdgihZmS",
        "outputId": "bf30afbb-8442-4978-f9b9-9872c8721741"
      },
      "outputs": [
        {
          "name": "stdout",
          "output_type": "stream",
          "text": [
            "EPOCH: 0\n"
          ]
        },
        {
          "name": "stderr",
          "output_type": "stream",
          "text": [
            "Loss=1.9275609254837036 Batch_id=97 Accuracy=22.01: 100%|██████████| 98/98 [00:13<00:00,  7.28it/s]\n"
          ]
        },
        {
          "name": "stdout",
          "output_type": "stream",
          "text": [
            "\n",
            "Test set: Average loss: 1.8747, Accuracy: 2818/10000 (28.18%)\n",
            "\n",
            "EPOCH: 1\n"
          ]
        },
        {
          "name": "stderr",
          "output_type": "stream",
          "text": [
            "Loss=1.7122611999511719 Batch_id=97 Accuracy=33.62: 100%|██████████| 98/98 [00:13<00:00,  7.40it/s]\n"
          ]
        },
        {
          "name": "stdout",
          "output_type": "stream",
          "text": [
            "\n",
            "Test set: Average loss: 1.6370, Accuracy: 3943/10000 (39.43%)\n",
            "\n",
            "EPOCH: 2\n"
          ]
        },
        {
          "name": "stderr",
          "output_type": "stream",
          "text": [
            "Loss=1.5089880228042603 Batch_id=97 Accuracy=39.01: 100%|██████████| 98/98 [00:13<00:00,  7.31it/s]\n"
          ]
        },
        {
          "name": "stdout",
          "output_type": "stream",
          "text": [
            "\n",
            "Test set: Average loss: 1.4859, Accuracy: 4482/10000 (44.82%)\n",
            "\n",
            "EPOCH: 3\n"
          ]
        },
        {
          "name": "stderr",
          "output_type": "stream",
          "text": [
            "Loss=1.3920396566390991 Batch_id=97 Accuracy=43.21: 100%|██████████| 98/98 [00:13<00:00,  7.38it/s]\n"
          ]
        },
        {
          "name": "stdout",
          "output_type": "stream",
          "text": [
            "\n",
            "Test set: Average loss: 1.3681, Accuracy: 4968/10000 (49.68%)\n",
            "\n",
            "EPOCH: 4\n"
          ]
        },
        {
          "name": "stderr",
          "output_type": "stream",
          "text": [
            "Loss=1.5043576955795288 Batch_id=97 Accuracy=47.07: 100%|██████████| 98/98 [00:13<00:00,  7.31it/s]\n"
          ]
        },
        {
          "name": "stdout",
          "output_type": "stream",
          "text": [
            "\n",
            "Test set: Average loss: 1.2615, Accuracy: 5426/10000 (54.26%)\n",
            "\n",
            "EPOCH: 5\n"
          ]
        },
        {
          "name": "stderr",
          "output_type": "stream",
          "text": [
            "Loss=1.3530340194702148 Batch_id=97 Accuracy=50.66: 100%|██████████| 98/98 [00:13<00:00,  7.36it/s]\n"
          ]
        },
        {
          "name": "stdout",
          "output_type": "stream",
          "text": [
            "\n",
            "Test set: Average loss: 1.1718, Accuracy: 5746/10000 (57.46%)\n",
            "\n",
            "EPOCH: 6\n"
          ]
        },
        {
          "name": "stderr",
          "output_type": "stream",
          "text": [
            "Loss=1.3030356168746948 Batch_id=97 Accuracy=52.99: 100%|██████████| 98/98 [00:13<00:00,  7.33it/s]\n"
          ]
        },
        {
          "name": "stdout",
          "output_type": "stream",
          "text": [
            "\n",
            "Test set: Average loss: 1.1260, Accuracy: 5967/10000 (59.67%)\n",
            "\n",
            "EPOCH: 7\n"
          ]
        },
        {
          "name": "stderr",
          "output_type": "stream",
          "text": [
            "Loss=1.1496225595474243 Batch_id=97 Accuracy=55.46: 100%|██████████| 98/98 [00:13<00:00,  7.41it/s]\n"
          ]
        },
        {
          "name": "stdout",
          "output_type": "stream",
          "text": [
            "\n",
            "Test set: Average loss: 1.0468, Accuracy: 6227/10000 (62.27%)\n",
            "\n",
            "EPOCH: 8\n"
          ]
        },
        {
          "name": "stderr",
          "output_type": "stream",
          "text": [
            "Loss=1.1606404781341553 Batch_id=97 Accuracy=56.98: 100%|██████████| 98/98 [00:13<00:00,  7.40it/s]\n"
          ]
        },
        {
          "name": "stdout",
          "output_type": "stream",
          "text": [
            "\n",
            "Test set: Average loss: 1.0646, Accuracy: 6118/10000 (61.18%)\n",
            "\n",
            "EPOCH: 9\n"
          ]
        },
        {
          "name": "stderr",
          "output_type": "stream",
          "text": [
            "Loss=1.1593115329742432 Batch_id=97 Accuracy=58.61: 100%|██████████| 98/98 [00:14<00:00,  6.90it/s]\n"
          ]
        },
        {
          "name": "stdout",
          "output_type": "stream",
          "text": [
            "\n",
            "Test set: Average loss: 0.9453, Accuracy: 6626/10000 (66.26%)\n",
            "\n",
            "EPOCH: 10\n"
          ]
        },
        {
          "name": "stderr",
          "output_type": "stream",
          "text": [
            "Loss=1.1388227939605713 Batch_id=97 Accuracy=60.27: 100%|██████████| 98/98 [00:13<00:00,  7.46it/s]\n"
          ]
        },
        {
          "name": "stdout",
          "output_type": "stream",
          "text": [
            "\n",
            "Test set: Average loss: 0.9231, Accuracy: 6735/10000 (67.35%)\n",
            "\n",
            "EPOCH: 11\n"
          ]
        },
        {
          "name": "stderr",
          "output_type": "stream",
          "text": [
            "Loss=0.9753270745277405 Batch_id=97 Accuracy=62.11: 100%|██████████| 98/98 [00:13<00:00,  7.39it/s]\n"
          ]
        },
        {
          "name": "stdout",
          "output_type": "stream",
          "text": [
            "\n",
            "Test set: Average loss: 0.9551, Accuracy: 6744/10000 (67.44%)\n",
            "\n",
            "EPOCH: 12\n"
          ]
        },
        {
          "name": "stderr",
          "output_type": "stream",
          "text": [
            "Loss=1.0398198366165161 Batch_id=97 Accuracy=63.01: 100%|██████████| 98/98 [00:13<00:00,  7.35it/s]\n"
          ]
        },
        {
          "name": "stdout",
          "output_type": "stream",
          "text": [
            "\n",
            "Test set: Average loss: 0.8362, Accuracy: 7056/10000 (70.56%)\n",
            "\n",
            "EPOCH: 13\n"
          ]
        },
        {
          "name": "stderr",
          "output_type": "stream",
          "text": [
            "Loss=0.9739747643470764 Batch_id=97 Accuracy=63.84: 100%|██████████| 98/98 [00:13<00:00,  7.37it/s]\n"
          ]
        },
        {
          "name": "stdout",
          "output_type": "stream",
          "text": [
            "\n",
            "Test set: Average loss: 0.8239, Accuracy: 7107/10000 (71.07%)\n",
            "\n",
            "EPOCH: 14\n"
          ]
        },
        {
          "name": "stderr",
          "output_type": "stream",
          "text": [
            "Loss=0.9479411840438843 Batch_id=97 Accuracy=65.13: 100%|██████████| 98/98 [00:13<00:00,  7.29it/s]\n"
          ]
        },
        {
          "name": "stdout",
          "output_type": "stream",
          "text": [
            "\n",
            "Test set: Average loss: 0.8327, Accuracy: 7090/10000 (70.90%)\n",
            "\n",
            "EPOCH: 15\n"
          ]
        },
        {
          "name": "stderr",
          "output_type": "stream",
          "text": [
            "Loss=0.9276435375213623 Batch_id=97 Accuracy=65.86: 100%|██████████| 98/98 [00:13<00:00,  7.48it/s]\n"
          ]
        },
        {
          "name": "stdout",
          "output_type": "stream",
          "text": [
            "\n",
            "Test set: Average loss: 0.7515, Accuracy: 7340/10000 (73.40%)\n",
            "\n",
            "EPOCH: 16\n"
          ]
        },
        {
          "name": "stderr",
          "output_type": "stream",
          "text": [
            "Loss=0.9354509711265564 Batch_id=97 Accuracy=66.96: 100%|██████████| 98/98 [00:13<00:00,  7.33it/s]\n"
          ]
        },
        {
          "name": "stdout",
          "output_type": "stream",
          "text": [
            "\n",
            "Test set: Average loss: 0.8000, Accuracy: 7270/10000 (72.70%)\n",
            "\n",
            "EPOCH: 17\n"
          ]
        },
        {
          "name": "stderr",
          "output_type": "stream",
          "text": [
            "Loss=0.9007778167724609 Batch_id=97 Accuracy=67.30: 100%|██████████| 98/98 [00:13<00:00,  7.44it/s]\n"
          ]
        },
        {
          "name": "stdout",
          "output_type": "stream",
          "text": [
            "\n",
            "Test set: Average loss: 0.7705, Accuracy: 7373/10000 (73.73%)\n",
            "\n",
            "EPOCH: 18\n"
          ]
        },
        {
          "name": "stderr",
          "output_type": "stream",
          "text": [
            "Loss=0.9801647663116455 Batch_id=97 Accuracy=67.86: 100%|██████████| 98/98 [00:14<00:00,  6.85it/s]\n"
          ]
        },
        {
          "name": "stdout",
          "output_type": "stream",
          "text": [
            "\n",
            "Test set: Average loss: 0.6858, Accuracy: 7611/10000 (76.11%)\n",
            "\n",
            "EPOCH: 19\n"
          ]
        },
        {
          "name": "stderr",
          "output_type": "stream",
          "text": [
            "Loss=0.8308291435241699 Batch_id=97 Accuracy=68.37: 100%|██████████| 98/98 [00:13<00:00,  7.35it/s]\n"
          ]
        },
        {
          "name": "stdout",
          "output_type": "stream",
          "text": [
            "\n",
            "Test set: Average loss: 0.6661, Accuracy: 7704/10000 (77.04%)\n",
            "\n",
            "EPOCH: 20\n"
          ]
        },
        {
          "name": "stderr",
          "output_type": "stream",
          "text": [
            "Loss=0.9523791074752808 Batch_id=97 Accuracy=69.00: 100%|██████████| 98/98 [00:13<00:00,  7.30it/s]\n"
          ]
        },
        {
          "name": "stdout",
          "output_type": "stream",
          "text": [
            "\n",
            "Test set: Average loss: 0.6599, Accuracy: 7745/10000 (77.45%)\n",
            "\n",
            "EPOCH: 21\n"
          ]
        },
        {
          "name": "stderr",
          "output_type": "stream",
          "text": [
            "Loss=0.81028813123703 Batch_id=97 Accuracy=69.52: 100%|██████████| 98/98 [00:13<00:00,  7.35it/s]\n"
          ]
        },
        {
          "name": "stdout",
          "output_type": "stream",
          "text": [
            "\n",
            "Test set: Average loss: 0.6680, Accuracy: 7690/10000 (76.90%)\n",
            "\n",
            "EPOCH: 22\n"
          ]
        },
        {
          "name": "stderr",
          "output_type": "stream",
          "text": [
            "Loss=0.9015111327171326 Batch_id=97 Accuracy=69.73: 100%|██████████| 98/98 [00:13<00:00,  7.38it/s]\n"
          ]
        },
        {
          "name": "stdout",
          "output_type": "stream",
          "text": [
            "\n",
            "Test set: Average loss: 0.6558, Accuracy: 7745/10000 (77.45%)\n",
            "\n",
            "EPOCH: 23\n"
          ]
        },
        {
          "name": "stderr",
          "output_type": "stream",
          "text": [
            "Loss=0.8005860447883606 Batch_id=97 Accuracy=70.12: 100%|██████████| 98/98 [00:13<00:00,  7.38it/s]\n"
          ]
        },
        {
          "name": "stdout",
          "output_type": "stream",
          "text": [
            "\n",
            "Test set: Average loss: 0.6297, Accuracy: 7865/10000 (78.65%)\n",
            "\n",
            "EPOCH: 24\n"
          ]
        },
        {
          "name": "stderr",
          "output_type": "stream",
          "text": [
            "Loss=0.8845256567001343 Batch_id=97 Accuracy=71.22: 100%|██████████| 98/98 [00:13<00:00,  7.19it/s]\n"
          ]
        },
        {
          "name": "stdout",
          "output_type": "stream",
          "text": [
            "\n",
            "Test set: Average loss: 0.6148, Accuracy: 7882/10000 (78.82%)\n",
            "\n",
            "EPOCH: 25\n"
          ]
        },
        {
          "name": "stderr",
          "output_type": "stream",
          "text": [
            "Loss=0.767785370349884 Batch_id=97 Accuracy=71.17: 100%|██████████| 98/98 [00:13<00:00,  7.46it/s]\n"
          ]
        },
        {
          "name": "stdout",
          "output_type": "stream",
          "text": [
            "\n",
            "Test set: Average loss: 0.6381, Accuracy: 7789/10000 (77.89%)\n",
            "\n",
            "EPOCH: 26\n"
          ]
        },
        {
          "name": "stderr",
          "output_type": "stream",
          "text": [
            "Loss=0.7868302464485168 Batch_id=97 Accuracy=71.27: 100%|██████████| 98/98 [00:13<00:00,  7.43it/s]\n"
          ]
        },
        {
          "name": "stdout",
          "output_type": "stream",
          "text": [
            "\n",
            "Test set: Average loss: 0.6248, Accuracy: 7861/10000 (78.61%)\n",
            "\n",
            "EPOCH: 27\n"
          ]
        },
        {
          "name": "stderr",
          "output_type": "stream",
          "text": [
            "Loss=0.8134583830833435 Batch_id=97 Accuracy=71.70: 100%|██████████| 98/98 [00:14<00:00,  6.96it/s]\n"
          ]
        },
        {
          "name": "stdout",
          "output_type": "stream",
          "text": [
            "\n",
            "Test set: Average loss: 0.5901, Accuracy: 8007/10000 (80.07%)\n",
            "\n",
            "EPOCH: 28\n"
          ]
        },
        {
          "name": "stderr",
          "output_type": "stream",
          "text": [
            "Loss=0.7760874629020691 Batch_id=97 Accuracy=71.86: 100%|██████████| 98/98 [00:13<00:00,  7.51it/s]\n"
          ]
        },
        {
          "name": "stdout",
          "output_type": "stream",
          "text": [
            "\n",
            "Test set: Average loss: 0.6029, Accuracy: 7950/10000 (79.50%)\n",
            "\n",
            "EPOCH: 29\n"
          ]
        },
        {
          "name": "stderr",
          "output_type": "stream",
          "text": [
            "Loss=0.8359417915344238 Batch_id=97 Accuracy=72.05: 100%|██████████| 98/98 [00:13<00:00,  7.28it/s]\n"
          ]
        },
        {
          "name": "stdout",
          "output_type": "stream",
          "text": [
            "\n",
            "Test set: Average loss: 0.5944, Accuracy: 7945/10000 (79.45%)\n",
            "\n",
            "EPOCH: 30\n"
          ]
        },
        {
          "name": "stderr",
          "output_type": "stream",
          "text": [
            "Loss=0.7468182444572449 Batch_id=97 Accuracy=72.34: 100%|██████████| 98/98 [00:13<00:00,  7.31it/s]\n"
          ]
        },
        {
          "name": "stdout",
          "output_type": "stream",
          "text": [
            "\n",
            "Test set: Average loss: 0.5618, Accuracy: 8115/10000 (81.15%)\n",
            "\n",
            "EPOCH: 31\n"
          ]
        },
        {
          "name": "stderr",
          "output_type": "stream",
          "text": [
            "Loss=0.8016449213027954 Batch_id=97 Accuracy=73.03: 100%|██████████| 98/98 [00:13<00:00,  7.41it/s]\n"
          ]
        },
        {
          "name": "stdout",
          "output_type": "stream",
          "text": [
            "\n",
            "Test set: Average loss: 0.6013, Accuracy: 7954/10000 (79.54%)\n",
            "\n",
            "EPOCH: 32\n"
          ]
        },
        {
          "name": "stderr",
          "output_type": "stream",
          "text": [
            "Loss=0.6834890842437744 Batch_id=97 Accuracy=72.81: 100%|██████████| 98/98 [00:13<00:00,  7.42it/s]\n"
          ]
        },
        {
          "name": "stdout",
          "output_type": "stream",
          "text": [
            "\n",
            "Test set: Average loss: 0.6214, Accuracy: 7909/10000 (79.09%)\n",
            "\n",
            "EPOCH: 33\n"
          ]
        },
        {
          "name": "stderr",
          "output_type": "stream",
          "text": [
            "Loss=0.7946979999542236 Batch_id=97 Accuracy=73.10: 100%|██████████| 98/98 [00:13<00:00,  7.43it/s]\n"
          ]
        },
        {
          "name": "stdout",
          "output_type": "stream",
          "text": [
            "\n",
            "Test set: Average loss: 0.6169, Accuracy: 7923/10000 (79.23%)\n",
            "\n",
            "EPOCH: 34\n"
          ]
        },
        {
          "name": "stderr",
          "output_type": "stream",
          "text": [
            "Loss=0.7761766314506531 Batch_id=97 Accuracy=73.29: 100%|██████████| 98/98 [00:13<00:00,  7.37it/s]\n"
          ]
        },
        {
          "name": "stdout",
          "output_type": "stream",
          "text": [
            "\n",
            "Test set: Average loss: 0.5429, Accuracy: 8147/10000 (81.47%)\n",
            "\n",
            "EPOCH: 35\n"
          ]
        },
        {
          "name": "stderr",
          "output_type": "stream",
          "text": [
            "Loss=0.734858512878418 Batch_id=97 Accuracy=73.46: 100%|██████████| 98/98 [00:13<00:00,  7.49it/s]\n"
          ]
        },
        {
          "name": "stdout",
          "output_type": "stream",
          "text": [
            "\n",
            "Test set: Average loss: 0.5535, Accuracy: 8114/10000 (81.14%)\n",
            "\n",
            "EPOCH: 36\n"
          ]
        },
        {
          "name": "stderr",
          "output_type": "stream",
          "text": [
            "Loss=0.7020084261894226 Batch_id=97 Accuracy=73.45: 100%|██████████| 98/98 [00:14<00:00,  6.85it/s]\n"
          ]
        },
        {
          "name": "stdout",
          "output_type": "stream",
          "text": [
            "\n",
            "Test set: Average loss: 0.5327, Accuracy: 8180/10000 (81.80%)\n",
            "\n",
            "EPOCH: 37\n"
          ]
        },
        {
          "name": "stderr",
          "output_type": "stream",
          "text": [
            "Loss=0.788244366645813 Batch_id=97 Accuracy=73.93: 100%|██████████| 98/98 [00:13<00:00,  7.39it/s]\n"
          ]
        },
        {
          "name": "stdout",
          "output_type": "stream",
          "text": [
            "\n",
            "Test set: Average loss: 0.5477, Accuracy: 8094/10000 (80.94%)\n",
            "\n",
            "EPOCH: 38\n"
          ]
        },
        {
          "name": "stderr",
          "output_type": "stream",
          "text": [
            "Loss=0.7893364429473877 Batch_id=97 Accuracy=73.94: 100%|██████████| 98/98 [00:13<00:00,  7.40it/s]\n"
          ]
        },
        {
          "name": "stdout",
          "output_type": "stream",
          "text": [
            "\n",
            "Test set: Average loss: 0.5548, Accuracy: 8121/10000 (81.21%)\n",
            "\n",
            "EPOCH: 39\n"
          ]
        },
        {
          "name": "stderr",
          "output_type": "stream",
          "text": [
            "Loss=0.6972207427024841 Batch_id=97 Accuracy=74.42: 100%|██████████| 98/98 [00:13<00:00,  7.38it/s]\n"
          ]
        },
        {
          "name": "stdout",
          "output_type": "stream",
          "text": [
            "\n",
            "Test set: Average loss: 0.5204, Accuracy: 8271/10000 (82.71%)\n",
            "\n",
            "EPOCH: 40\n"
          ]
        },
        {
          "name": "stderr",
          "output_type": "stream",
          "text": [
            "Loss=0.7736127972602844 Batch_id=97 Accuracy=74.40: 100%|██████████| 98/98 [00:13<00:00,  7.34it/s]\n"
          ]
        },
        {
          "name": "stdout",
          "output_type": "stream",
          "text": [
            "\n",
            "Test set: Average loss: 0.5196, Accuracy: 8232/10000 (82.32%)\n",
            "\n",
            "EPOCH: 41\n"
          ]
        },
        {
          "name": "stderr",
          "output_type": "stream",
          "text": [
            "Loss=0.5480628609657288 Batch_id=97 Accuracy=74.64: 100%|██████████| 98/98 [00:13<00:00,  7.51it/s]\n"
          ]
        },
        {
          "name": "stdout",
          "output_type": "stream",
          "text": [
            "\n",
            "Test set: Average loss: 0.5876, Accuracy: 7989/10000 (79.89%)\n",
            "\n",
            "EPOCH: 42\n"
          ]
        },
        {
          "name": "stderr",
          "output_type": "stream",
          "text": [
            "Loss=0.668023407459259 Batch_id=97 Accuracy=74.85: 100%|██████████| 98/98 [00:13<00:00,  7.36it/s]\n"
          ]
        },
        {
          "name": "stdout",
          "output_type": "stream",
          "text": [
            "\n",
            "Test set: Average loss: 0.5662, Accuracy: 8044/10000 (80.44%)\n",
            "\n",
            "EPOCH: 43\n"
          ]
        },
        {
          "name": "stderr",
          "output_type": "stream",
          "text": [
            "Loss=0.7125658988952637 Batch_id=97 Accuracy=74.78: 100%|██████████| 98/98 [00:13<00:00,  7.47it/s]\n"
          ]
        },
        {
          "name": "stdout",
          "output_type": "stream",
          "text": [
            "\n",
            "Test set: Average loss: 0.5093, Accuracy: 8272/10000 (82.72%)\n",
            "\n",
            "EPOCH: 44\n"
          ]
        },
        {
          "name": "stderr",
          "output_type": "stream",
          "text": [
            "Loss=0.7624248266220093 Batch_id=97 Accuracy=75.24: 100%|██████████| 98/98 [00:13<00:00,  7.34it/s]\n"
          ]
        },
        {
          "name": "stdout",
          "output_type": "stream",
          "text": [
            "\n",
            "Test set: Average loss: 0.4927, Accuracy: 8316/10000 (83.16%)\n",
            "\n",
            "EPOCH: 45\n"
          ]
        },
        {
          "name": "stderr",
          "output_type": "stream",
          "text": [
            "Loss=0.6473751664161682 Batch_id=97 Accuracy=75.37: 100%|██████████| 98/98 [00:14<00:00,  6.89it/s]\n"
          ]
        },
        {
          "name": "stdout",
          "output_type": "stream",
          "text": [
            "\n",
            "Test set: Average loss: 0.5323, Accuracy: 8202/10000 (82.02%)\n",
            "\n",
            "EPOCH: 46\n"
          ]
        },
        {
          "name": "stderr",
          "output_type": "stream",
          "text": [
            "Loss=0.675848662853241 Batch_id=97 Accuracy=75.39: 100%|██████████| 98/98 [00:13<00:00,  7.39it/s]\n"
          ]
        },
        {
          "name": "stdout",
          "output_type": "stream",
          "text": [
            "\n",
            "Test set: Average loss: 0.5083, Accuracy: 8273/10000 (82.73%)\n",
            "\n",
            "EPOCH: 47\n"
          ]
        },
        {
          "name": "stderr",
          "output_type": "stream",
          "text": [
            "Loss=0.7496247291564941 Batch_id=97 Accuracy=75.65: 100%|██████████| 98/98 [00:13<00:00,  7.47it/s]\n"
          ]
        },
        {
          "name": "stdout",
          "output_type": "stream",
          "text": [
            "\n",
            "Test set: Average loss: 0.4873, Accuracy: 8318/10000 (83.18%)\n",
            "\n",
            "EPOCH: 48\n"
          ]
        },
        {
          "name": "stderr",
          "output_type": "stream",
          "text": [
            "Loss=0.8273364305496216 Batch_id=97 Accuracy=75.65: 100%|██████████| 98/98 [00:13<00:00,  7.32it/s]\n"
          ]
        },
        {
          "name": "stdout",
          "output_type": "stream",
          "text": [
            "\n",
            "Test set: Average loss: 0.4791, Accuracy: 8367/10000 (83.67%)\n",
            "\n",
            "EPOCH: 49\n"
          ]
        },
        {
          "name": "stderr",
          "output_type": "stream",
          "text": [
            "Loss=0.6733368039131165 Batch_id=97 Accuracy=75.43: 100%|██████████| 98/98 [00:13<00:00,  7.49it/s]\n"
          ]
        },
        {
          "name": "stdout",
          "output_type": "stream",
          "text": [
            "\n",
            "Test set: Average loss: 0.4962, Accuracy: 8328/10000 (83.28%)\n",
            "\n",
            "EPOCH: 50\n"
          ]
        },
        {
          "name": "stderr",
          "output_type": "stream",
          "text": [
            "Loss=0.6740032434463501 Batch_id=97 Accuracy=75.65: 100%|██████████| 98/98 [00:13<00:00,  7.45it/s]\n"
          ]
        },
        {
          "name": "stdout",
          "output_type": "stream",
          "text": [
            "\n",
            "Test set: Average loss: 0.5403, Accuracy: 8168/10000 (81.68%)\n",
            "\n",
            "EPOCH: 51\n"
          ]
        },
        {
          "name": "stderr",
          "output_type": "stream",
          "text": [
            "Loss=0.7043306827545166 Batch_id=97 Accuracy=75.92: 100%|██████████| 98/98 [00:13<00:00,  7.41it/s]\n"
          ]
        },
        {
          "name": "stdout",
          "output_type": "stream",
          "text": [
            "\n",
            "Test set: Average loss: 0.5386, Accuracy: 8198/10000 (81.98%)\n",
            "\n",
            "EPOCH: 52\n"
          ]
        },
        {
          "name": "stderr",
          "output_type": "stream",
          "text": [
            "Loss=0.7322734594345093 Batch_id=97 Accuracy=75.96: 100%|██████████| 98/98 [00:13<00:00,  7.43it/s]\n"
          ]
        },
        {
          "name": "stdout",
          "output_type": "stream",
          "text": [
            "\n",
            "Test set: Average loss: 0.5191, Accuracy: 8260/10000 (82.60%)\n",
            "\n",
            "EPOCH: 53\n"
          ]
        },
        {
          "name": "stderr",
          "output_type": "stream",
          "text": [
            "Loss=0.7202911376953125 Batch_id=97 Accuracy=75.93: 100%|██████████| 98/98 [00:13<00:00,  7.45it/s]\n"
          ]
        },
        {
          "name": "stdout",
          "output_type": "stream",
          "text": [
            "\n",
            "Test set: Average loss: 0.4950, Accuracy: 8325/10000 (83.25%)\n",
            "\n",
            "EPOCH: 54\n"
          ]
        },
        {
          "name": "stderr",
          "output_type": "stream",
          "text": [
            "Loss=0.6493257880210876 Batch_id=97 Accuracy=76.39: 100%|██████████| 98/98 [00:14<00:00,  6.88it/s]\n"
          ]
        },
        {
          "name": "stdout",
          "output_type": "stream",
          "text": [
            "\n",
            "Test set: Average loss: 0.4927, Accuracy: 8302/10000 (83.02%)\n",
            "\n",
            "EPOCH: 55\n"
          ]
        },
        {
          "name": "stderr",
          "output_type": "stream",
          "text": [
            "Loss=0.7147823572158813 Batch_id=97 Accuracy=76.47: 100%|██████████| 98/98 [00:13<00:00,  7.47it/s]\n"
          ]
        },
        {
          "name": "stdout",
          "output_type": "stream",
          "text": [
            "\n",
            "Test set: Average loss: 0.5121, Accuracy: 8270/10000 (82.70%)\n",
            "\n",
            "EPOCH: 56\n"
          ]
        },
        {
          "name": "stderr",
          "output_type": "stream",
          "text": [
            "Loss=0.614067554473877 Batch_id=97 Accuracy=76.45: 100%|██████████| 98/98 [00:13<00:00,  7.44it/s]\n"
          ]
        },
        {
          "name": "stdout",
          "output_type": "stream",
          "text": [
            "\n",
            "Test set: Average loss: 0.4896, Accuracy: 8330/10000 (83.30%)\n",
            "\n",
            "EPOCH: 57\n"
          ]
        },
        {
          "name": "stderr",
          "output_type": "stream",
          "text": [
            "Loss=0.6170674562454224 Batch_id=97 Accuracy=76.35: 100%|██████████| 98/98 [00:13<00:00,  7.49it/s]\n"
          ]
        },
        {
          "name": "stdout",
          "output_type": "stream",
          "text": [
            "\n",
            "Test set: Average loss: 0.4973, Accuracy: 8310/10000 (83.10%)\n",
            "\n",
            "EPOCH: 58\n"
          ]
        },
        {
          "name": "stderr",
          "output_type": "stream",
          "text": [
            "Loss=0.6236426830291748 Batch_id=97 Accuracy=76.70: 100%|██████████| 98/98 [00:13<00:00,  7.45it/s]\n"
          ]
        },
        {
          "name": "stdout",
          "output_type": "stream",
          "text": [
            "\n",
            "Test set: Average loss: 0.4981, Accuracy: 8296/10000 (82.96%)\n",
            "\n",
            "EPOCH: 59\n"
          ]
        },
        {
          "name": "stderr",
          "output_type": "stream",
          "text": [
            "Loss=0.6285164952278137 Batch_id=97 Accuracy=77.00: 100%|██████████| 98/98 [00:13<00:00,  7.41it/s]\n"
          ]
        },
        {
          "name": "stdout",
          "output_type": "stream",
          "text": [
            "\n",
            "Test set: Average loss: 0.4710, Accuracy: 8433/10000 (84.33%)\n",
            "\n"
          ]
        }
      ],
      "source": [
        "from torch.optim.lr_scheduler import StepLR\n",
        "\n",
        "model =  Net().to(device)\n",
        "optimizer = optim.SGD(model.parameters(), lr=0.01, momentum=0.9)\n",
        "scheduler = StepLR(optimizer, step_size=6, gamma=0.1)\n",
        "\n",
        "\n",
        "EPOCHS = 60\n",
        "for epoch in range(EPOCHS):\n",
        "    print(\"EPOCH:\", epoch)\n",
        "    train(model, device, train_loader, optimizer, epoch)\n",
        "    # scheduler.step()\n",
        "    test(model, device, test_loader)"
      ]
    }
  ],
  "metadata": {
    "accelerator": "GPU",
    "colab": {
      "gpuType": "T4",
      "provenance": []
    },
    "kernelspec": {
      "display_name": "Python 3",
      "name": "python3"
    },
    "language_info": {
      "name": "python"
    }
  },
  "nbformat": 4,
  "nbformat_minor": 0
}
