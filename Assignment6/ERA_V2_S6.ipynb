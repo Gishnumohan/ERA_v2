{
  "nbformat": 4,
  "nbformat_minor": 0,
  "metadata": {
    "colab": {
      "provenance": []
    },
    "kernelspec": {
      "name": "python3",
      "display_name": "Python 3"
    },
    "accelerator": "GPU"
  },
  "cells": [
    {
      "cell_type": "code",
      "metadata": {
        "id": "0m2JWFliFfKT"
      },
      "source": [
        "from __future__ import print_function\n",
        "import torch\n",
        "import torch.nn as nn\n",
        "import torch.nn.functional as F\n",
        "import torch.optim as optim\n",
        "from torchvision import datasets, transforms"
      ],
      "execution_count": 7,
      "outputs": []
    },
    {
      "cell_type": "code",
      "source": [
        "class Net(nn.Module):\n",
        "    def __init__(self):\n",
        "        super(Net, self).__init__()\n",
        "        self.conv1 = nn.Sequential(\n",
        "            nn.Conv2d(1, 8, 3, padding=1),      # 28x28x1 | 28x28x8 | RF 3\n",
        "            nn.ReLU(),\n",
        "            nn.BatchNorm2d(8),\n",
        "\n",
        "            nn.Conv2d(8, 8, 3, padding=1),      # 28x28x8 | 28x28x8 | RF 5\n",
        "            nn.ReLU(),\n",
        "            nn.BatchNorm2d(8),\n",
        "\n",
        "            nn.Conv2d(8, 8, 3, padding=1),      # 28x28x8 | 28x28x8 | RF 7\n",
        "            nn.ReLU(),\n",
        "            nn.BatchNorm2d(8),\n",
        "\n",
        "            nn.MaxPool2d(2,2),                  # 28x28x8 | 14x14x8 | RF 8\n",
        "            nn.Dropout(0.25)\n",
        "        )\n",
        "        self.conv2 = nn.Sequential(\n",
        "            nn.Conv2d(8, 16, 3, padding=0),     # 14x14x8 | 12x12x16 | RF 12\n",
        "            nn.ReLU(),\n",
        "            nn.BatchNorm2d(16),\n",
        "\n",
        "            nn.Conv2d(16, 16, 3, padding=0),    # 12x12x16 | 10x10x16 | RF 16\n",
        "            nn.ReLU(),\n",
        "            nn.BatchNorm2d(16),\n",
        "\n",
        "            nn.Conv2d(16, 16, 3, padding=0),    # 10x10x16 | 8x8x16 | RF 20\n",
        "            nn.ReLU(),\n",
        "            nn.BatchNorm2d(16),\n",
        "        )\n",
        "        self.conv3 = nn.Sequential(\n",
        "            nn.Conv2d(16, 16, 3, padding=0),    # 8x8x16 | 6x6x16 | RF 24\n",
        "            nn.ReLU(),\n",
        "            nn.BatchNorm2d(16),\n",
        "\n",
        "            nn.Conv2d(16, 32, 3, padding=0),    # 6x6x16 | 4x4x32 | RF 28\n",
        "        )\n",
        "        self.avgpool = nn.AvgPool2d(4)          # 4x4x32 | 1x1x32\n",
        "        self.fc = nn.Sequential(\n",
        "            nn.Linear(32, 10)\n",
        "        )\n",
        "\n",
        "    def forward(self, x):\n",
        "        x = self.conv1(x)\n",
        "        x = self.conv2(x)\n",
        "        x = self.conv3(x)\n",
        "        x = self.avgpool(x)\n",
        "        x = x.view(-1, 32)\n",
        "        x = self.fc(x)\n",
        "        x = F.log_softmax(x, dim=1)\n",
        "        return x"
      ],
      "metadata": {
        "id": "cMkNb0wLccak"
      },
      "execution_count": 8,
      "outputs": []
    },
    {
      "cell_type": "code",
      "metadata": {
        "id": "xdydjYTZFyi3",
        "colab": {
          "base_uri": "https://localhost:8080/"
        },
        "outputId": "d9b749ba-c2a3-485f-92e3-8cc5ef4ad81c"
      },
      "source": [
        "!pip install torchsummary\n",
        "from torchsummary import summary\n",
        "use_cuda = torch.cuda.is_available()\n",
        "device = torch.device(\"cuda\" if use_cuda else \"cpu\")\n",
        "model = Net().to(device)\n",
        "summary(model, input_size=(1, 28, 28))"
      ],
      "execution_count": 9,
      "outputs": [
        {
          "output_type": "stream",
          "name": "stdout",
          "text": [
            "Requirement already satisfied: torchsummary in /usr/local/lib/python3.10/dist-packages (1.5.1)\n",
            "----------------------------------------------------------------\n",
            "        Layer (type)               Output Shape         Param #\n",
            "================================================================\n",
            "            Conv2d-1            [-1, 8, 28, 28]              80\n",
            "              ReLU-2            [-1, 8, 28, 28]               0\n",
            "       BatchNorm2d-3            [-1, 8, 28, 28]              16\n",
            "            Conv2d-4            [-1, 8, 28, 28]             584\n",
            "              ReLU-5            [-1, 8, 28, 28]               0\n",
            "       BatchNorm2d-6            [-1, 8, 28, 28]              16\n",
            "            Conv2d-7            [-1, 8, 28, 28]             584\n",
            "              ReLU-8            [-1, 8, 28, 28]               0\n",
            "       BatchNorm2d-9            [-1, 8, 28, 28]              16\n",
            "        MaxPool2d-10            [-1, 8, 14, 14]               0\n",
            "          Dropout-11            [-1, 8, 14, 14]               0\n",
            "           Conv2d-12           [-1, 16, 12, 12]           1,168\n",
            "             ReLU-13           [-1, 16, 12, 12]               0\n",
            "      BatchNorm2d-14           [-1, 16, 12, 12]              32\n",
            "           Conv2d-15           [-1, 16, 10, 10]           2,320\n",
            "             ReLU-16           [-1, 16, 10, 10]               0\n",
            "      BatchNorm2d-17           [-1, 16, 10, 10]              32\n",
            "           Conv2d-18             [-1, 16, 8, 8]           2,320\n",
            "             ReLU-19             [-1, 16, 8, 8]               0\n",
            "      BatchNorm2d-20             [-1, 16, 8, 8]              32\n",
            "           Conv2d-21             [-1, 16, 6, 6]           2,320\n",
            "             ReLU-22             [-1, 16, 6, 6]               0\n",
            "      BatchNorm2d-23             [-1, 16, 6, 6]              32\n",
            "           Conv2d-24             [-1, 32, 4, 4]           4,640\n",
            "        AvgPool2d-25             [-1, 32, 1, 1]               0\n",
            "           Linear-26                   [-1, 10]             330\n",
            "================================================================\n",
            "Total params: 14,522\n",
            "Trainable params: 14,522\n",
            "Non-trainable params: 0\n",
            "----------------------------------------------------------------\n",
            "Input size (MB): 0.00\n",
            "Forward/backward pass size (MB): 0.58\n",
            "Params size (MB): 0.06\n",
            "Estimated Total Size (MB): 0.64\n",
            "----------------------------------------------------------------\n"
          ]
        }
      ]
    },
    {
      "cell_type": "code",
      "metadata": {
        "id": "DqTWLaM5GHgH"
      },
      "source": [
        "\n",
        "\n",
        "torch.manual_seed(1)\n",
        "batch_size = 128\n",
        "\n",
        "kwargs = {'num_workers': 1, 'pin_memory': True} if use_cuda else {}\n",
        "train_loader = torch.utils.data.DataLoader(\n",
        "    datasets.MNIST('../data', train=True, download=True,\n",
        "                    transform=transforms.Compose([\n",
        "                        transforms.ToTensor(),\n",
        "                        transforms.Normalize((0.1307,), (0.3081,))\n",
        "                    ])),\n",
        "    batch_size=batch_size, shuffle=True, **kwargs)\n",
        "test_loader = torch.utils.data.DataLoader(\n",
        "    datasets.MNIST('../data', train=False, transform=transforms.Compose([\n",
        "                        transforms.ToTensor(),\n",
        "                        transforms.Normalize((0.1307,), (0.3081,))\n",
        "                    ])),\n",
        "    batch_size=batch_size, shuffle=True, **kwargs)\n"
      ],
      "execution_count": 10,
      "outputs": []
    },
    {
      "cell_type": "code",
      "source": [
        "from tqdm import tqdm\n",
        "def train(model, device, train_loader, optimizer, epoch):\n",
        "    model.train()\n",
        "    pbar = tqdm(train_loader)\n",
        "    for batch_idx, (data, target) in enumerate(pbar):\n",
        "        data, target = data.to(device), target.to(device)\n",
        "        optimizer.zero_grad()\n",
        "        output = model(data)\n",
        "        loss = F.nll_loss(output, target)\n",
        "        loss.backward()\n",
        "        optimizer.step()\n",
        "        pbar.set_description(desc= f'loss={loss.item()} batch_id={batch_idx}')\n",
        "\n",
        "\n",
        "def test(model, device, test_loader):\n",
        "    model.eval()\n",
        "    test_loss = 0\n",
        "    correct = 0\n",
        "    with torch.no_grad():\n",
        "        for data, target in test_loader:\n",
        "            data, target = data.to(device), target.to(device)\n",
        "            output = model(data)\n",
        "            test_loss += F.nll_loss(output, target, reduction='sum').item()  # sum up batch loss\n",
        "            pred = output.argmax(dim=1, keepdim=True)  # get the index of the max log-probability\n",
        "            correct += pred.eq(target.view_as(pred)).sum().item()\n",
        "\n",
        "    test_loss /= len(test_loader.dataset)\n",
        "\n",
        "    print('\\nTest set: Average loss: {:.4f}, Accuracy: {}/{} ({:.3f}%)\\n'.format(\n",
        "        test_loss, correct, len(test_loader.dataset),\n",
        "        100. * correct / len(test_loader.dataset)))"
      ],
      "metadata": {
        "id": "j9at-Iv71P99"
      },
      "execution_count": 18,
      "outputs": []
    },
    {
      "cell_type": "code",
      "metadata": {
        "id": "MMWbLWO6FuHb",
        "colab": {
          "base_uri": "https://localhost:8080/"
        },
        "outputId": "5189b36c-f018-4970-d451-81e354a5d6aa"
      },
      "source": [
        "model = Net().to(device)\n",
        "optimizer = optim.SGD(model.parameters(), lr=0.01, momentum=0.9)\n",
        "\n",
        "for epoch in range(1,21):\n",
        "    print(\"Epoch :\", epoch)\n",
        "    train(model, device, train_loader, optimizer, epoch)\n",
        "    test(model, device, test_loader)"
      ],
      "execution_count": 19,
      "outputs": [
        {
          "output_type": "stream",
          "name": "stdout",
          "text": [
            "Epoch : 1\n"
          ]
        },
        {
          "output_type": "stream",
          "name": "stderr",
          "text": [
            "loss=0.09637558460235596 batch_id=468: 100%|██████████| 469/469 [00:17<00:00, 26.39it/s]\n"
          ]
        },
        {
          "output_type": "stream",
          "name": "stdout",
          "text": [
            "\n",
            "Test set: Average loss: 0.0405, Accuracy: 9868/10000 (98.680%)\n",
            "\n",
            "Epoch : 2\n"
          ]
        },
        {
          "output_type": "stream",
          "name": "stderr",
          "text": [
            "loss=0.04235925152897835 batch_id=468: 100%|██████████| 469/469 [00:18<00:00, 25.05it/s]\n"
          ]
        },
        {
          "output_type": "stream",
          "name": "stdout",
          "text": [
            "\n",
            "Test set: Average loss: 0.0337, Accuracy: 9894/10000 (98.940%)\n",
            "\n",
            "Epoch : 3\n"
          ]
        },
        {
          "output_type": "stream",
          "name": "stderr",
          "text": [
            "loss=0.009401469491422176 batch_id=468: 100%|██████████| 469/469 [00:18<00:00, 25.29it/s]\n"
          ]
        },
        {
          "output_type": "stream",
          "name": "stdout",
          "text": [
            "\n",
            "Test set: Average loss: 0.0329, Accuracy: 9894/10000 (98.940%)\n",
            "\n",
            "Epoch : 4\n"
          ]
        },
        {
          "output_type": "stream",
          "name": "stderr",
          "text": [
            "loss=0.00952109694480896 batch_id=468: 100%|██████████| 469/469 [00:18<00:00, 26.03it/s]\n"
          ]
        },
        {
          "output_type": "stream",
          "name": "stdout",
          "text": [
            "\n",
            "Test set: Average loss: 0.0232, Accuracy: 9920/10000 (99.200%)\n",
            "\n",
            "Epoch : 5\n"
          ]
        },
        {
          "output_type": "stream",
          "name": "stderr",
          "text": [
            "loss=0.017978837713599205 batch_id=468: 100%|██████████| 469/469 [00:17<00:00, 26.28it/s]\n"
          ]
        },
        {
          "output_type": "stream",
          "name": "stdout",
          "text": [
            "\n",
            "Test set: Average loss: 0.0216, Accuracy: 9926/10000 (99.260%)\n",
            "\n",
            "Epoch : 6\n"
          ]
        },
        {
          "output_type": "stream",
          "name": "stderr",
          "text": [
            "loss=0.0032652311492711306 batch_id=468: 100%|██████████| 469/469 [00:18<00:00, 25.15it/s]\n"
          ]
        },
        {
          "output_type": "stream",
          "name": "stdout",
          "text": [
            "\n",
            "Test set: Average loss: 0.0184, Accuracy: 9939/10000 (99.390%)\n",
            "\n",
            "Epoch : 7\n"
          ]
        },
        {
          "output_type": "stream",
          "name": "stderr",
          "text": [
            "loss=0.0017664391780272126 batch_id=468: 100%|██████████| 469/469 [00:17<00:00, 26.19it/s]\n"
          ]
        },
        {
          "output_type": "stream",
          "name": "stdout",
          "text": [
            "\n",
            "Test set: Average loss: 0.0213, Accuracy: 9930/10000 (99.300%)\n",
            "\n",
            "Epoch : 8\n"
          ]
        },
        {
          "output_type": "stream",
          "name": "stderr",
          "text": [
            "loss=0.0018664407543838024 batch_id=468: 100%|██████████| 469/469 [00:17<00:00, 26.09it/s]\n"
          ]
        },
        {
          "output_type": "stream",
          "name": "stdout",
          "text": [
            "\n",
            "Test set: Average loss: 0.0169, Accuracy: 9944/10000 (99.440%)\n",
            "\n",
            "Epoch : 9\n"
          ]
        },
        {
          "output_type": "stream",
          "name": "stderr",
          "text": [
            "loss=0.007271794136613607 batch_id=468: 100%|██████████| 469/469 [00:18<00:00, 24.94it/s]\n"
          ]
        },
        {
          "output_type": "stream",
          "name": "stdout",
          "text": [
            "\n",
            "Test set: Average loss: 0.0175, Accuracy: 9944/10000 (99.440%)\n",
            "\n",
            "Epoch : 10\n"
          ]
        },
        {
          "output_type": "stream",
          "name": "stderr",
          "text": [
            "loss=0.08384596556425095 batch_id=468: 100%|██████████| 469/469 [00:17<00:00, 26.28it/s]\n"
          ]
        },
        {
          "output_type": "stream",
          "name": "stdout",
          "text": [
            "\n",
            "Test set: Average loss: 0.0167, Accuracy: 9944/10000 (99.440%)\n",
            "\n",
            "Epoch : 11\n"
          ]
        },
        {
          "output_type": "stream",
          "name": "stderr",
          "text": [
            "loss=0.01848633401095867 batch_id=468: 100%|██████████| 469/469 [00:18<00:00, 25.99it/s]\n"
          ]
        },
        {
          "output_type": "stream",
          "name": "stdout",
          "text": [
            "\n",
            "Test set: Average loss: 0.0193, Accuracy: 9938/10000 (99.380%)\n",
            "\n",
            "Epoch : 12\n"
          ]
        },
        {
          "output_type": "stream",
          "name": "stderr",
          "text": [
            "loss=0.005707333330065012 batch_id=468: 100%|██████████| 469/469 [00:18<00:00, 25.00it/s]\n"
          ]
        },
        {
          "output_type": "stream",
          "name": "stdout",
          "text": [
            "\n",
            "Test set: Average loss: 0.0210, Accuracy: 9942/10000 (99.420%)\n",
            "\n",
            "Epoch : 13\n"
          ]
        },
        {
          "output_type": "stream",
          "name": "stderr",
          "text": [
            "loss=0.0034682259429246187 batch_id=468: 100%|██████████| 469/469 [00:18<00:00, 25.97it/s]\n"
          ]
        },
        {
          "output_type": "stream",
          "name": "stdout",
          "text": [
            "\n",
            "Test set: Average loss: 0.0173, Accuracy: 9946/10000 (99.460%)\n",
            "\n",
            "Epoch : 14\n"
          ]
        },
        {
          "output_type": "stream",
          "name": "stderr",
          "text": [
            "loss=0.05939161404967308 batch_id=468: 100%|██████████| 469/469 [00:17<00:00, 26.12it/s]\n"
          ]
        },
        {
          "output_type": "stream",
          "name": "stdout",
          "text": [
            "\n",
            "Test set: Average loss: 0.0177, Accuracy: 9945/10000 (99.450%)\n",
            "\n",
            "Epoch : 15\n"
          ]
        },
        {
          "output_type": "stream",
          "name": "stderr",
          "text": [
            "loss=0.025528093799948692 batch_id=468: 100%|██████████| 469/469 [00:18<00:00, 25.13it/s]\n"
          ]
        },
        {
          "output_type": "stream",
          "name": "stdout",
          "text": [
            "\n",
            "Test set: Average loss: 0.0179, Accuracy: 9938/10000 (99.380%)\n",
            "\n",
            "Epoch : 16\n"
          ]
        },
        {
          "output_type": "stream",
          "name": "stderr",
          "text": [
            "loss=0.015229310840368271 batch_id=468: 100%|██████████| 469/469 [00:18<00:00, 25.49it/s]\n"
          ]
        },
        {
          "output_type": "stream",
          "name": "stdout",
          "text": [
            "\n",
            "Test set: Average loss: 0.0180, Accuracy: 9940/10000 (99.400%)\n",
            "\n",
            "Epoch : 17\n"
          ]
        },
        {
          "output_type": "stream",
          "name": "stderr",
          "text": [
            "loss=0.028670065104961395 batch_id=468: 100%|██████████| 469/469 [00:18<00:00, 26.01it/s]\n"
          ]
        },
        {
          "output_type": "stream",
          "name": "stdout",
          "text": [
            "\n",
            "Test set: Average loss: 0.0218, Accuracy: 9926/10000 (99.260%)\n",
            "\n",
            "Epoch : 18\n"
          ]
        },
        {
          "output_type": "stream",
          "name": "stderr",
          "text": [
            "loss=0.0037657625507563353 batch_id=468: 100%|██████████| 469/469 [00:18<00:00, 24.77it/s]\n"
          ]
        },
        {
          "output_type": "stream",
          "name": "stdout",
          "text": [
            "\n",
            "Test set: Average loss: 0.0182, Accuracy: 9944/10000 (99.440%)\n",
            "\n",
            "Epoch : 19\n"
          ]
        },
        {
          "output_type": "stream",
          "name": "stderr",
          "text": [
            "loss=0.002572747180238366 batch_id=468: 100%|██████████| 469/469 [00:19<00:00, 24.64it/s]\n"
          ]
        },
        {
          "output_type": "stream",
          "name": "stdout",
          "text": [
            "\n",
            "Test set: Average loss: 0.0190, Accuracy: 9944/10000 (99.440%)\n",
            "\n",
            "Epoch : 20\n"
          ]
        },
        {
          "output_type": "stream",
          "name": "stderr",
          "text": [
            "loss=0.001063696458004415 batch_id=468: 100%|██████████| 469/469 [00:18<00:00, 25.69it/s]\n"
          ]
        },
        {
          "output_type": "stream",
          "name": "stdout",
          "text": [
            "\n",
            "Test set: Average loss: 0.0175, Accuracy: 9940/10000 (99.400%)\n",
            "\n"
          ]
        }
      ]
    }
  ]
}